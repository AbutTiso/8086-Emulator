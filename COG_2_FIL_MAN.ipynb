{
  "cells": [
    {
      "cell_type": "markdown",
      "metadata": {
        "id": "view-in-github",
        "colab_type": "text"
      },
      "source": [
        "<a href=\"https://colab.research.google.com/github/AbutTiso/8086-Emulator/blob/master/COG_2_FIL_MAN.ipynb\" target=\"_parent\"><img src=\"https://colab.research.google.com/assets/colab-badge.svg\" alt=\"Open In Colab\"/></a>"
      ]
    },
    {
      "cell_type": "code",
      "execution_count": 2,
      "id": "a7a1ea0d",
      "metadata": {
        "colab": {
          "base_uri": "https://localhost:8080/"
        },
        "id": "a7a1ea0d",
        "outputId": "9f166989-f862-4d70-82c0-0c850d60cbfc"
      },
      "outputs": [
        {
          "output_type": "stream",
          "name": "stdout",
          "text": [
            "Please select a text file to analyze.\n",
            "An error occured: no display name and no $DISPLAY environment variable\n"
          ]
        }
      ],
      "source": [
        "#######################################################\n",
        "#LEVEL 2\n",
        "#********************\n",
        "#TASK 5\n",
        "#********************\n",
        "#FILE MANIPULATION\n",
        "######################################################\n",
        "\n",
        "import string\n",
        "from tkinter import Tk\n",
        "from tkinter.filedialog import askopenfilename\n",
        "\n",
        "def file_word_counter():\n",
        "    try:\n",
        "        print(\"Please select a text file to analyze.\")\n",
        "        root = Tk()\n",
        "        # hides tkinter window, only file dialog appears\n",
        "        root.withdraw()\n",
        "        #open a dialogue to select a file\n",
        "        file_path = askopenfilename(\n",
        "            # title of dialogue window\n",
        "            title = \"Select a text file\",\n",
        "            # filters file only text allowed\n",
        "            filetypes = [(\"Text files\", \"*.txt\"), (\"All files\",\"*.*\")]\n",
        "        )\n",
        "        if not file_path:\n",
        "            print(\"The file doesn't exist\")\n",
        "            return\n",
        "        #open and read the file\n",
        "        with open(file_path, 'r', encoding ='utf-8') as file:\n",
        "            txt = file.read()\n",
        "        #normalize the text and convert to lowercase\n",
        "        word_count = txt.lower().split()\n",
        "        #remove punctuations from every word\n",
        "        word_count = [word.strip(string.punctuation) for word in word_count]\n",
        "        #dict to store and count word occurence\n",
        "        word_occurence = {}\n",
        "        for word in word_count:\n",
        "            if word:\n",
        "                word_occurence[word] = word_occurence.get(word, 0) + 1\n",
        "        sorted_word_counts = sorted(word_occurence.items())\n",
        "        print(\"\\n Word occurence in a sorted alphabetical order: \")\n",
        "        for word, count in sorted_word_counts:\n",
        "            print(f\"{word}: {count}\")\n",
        "    except FileNotFoundError:\n",
        "        print(\"File not found! Please check file name and try again.\")\n",
        "    except UnicodeDecodeError:\n",
        "        print(\"File contains non-decodable characters. PLEASE use a text file.\")\n",
        "    except Exception as e:\n",
        "        print(f\"An error occured: {e}\")\n",
        "\n",
        "if __name__ == \"__main__\":\n",
        "    file_word_counter()\n",
        "\n",
        ""
      ]
    },
    {
      "cell_type": "code",
      "execution_count": null,
      "id": "b0bca32f",
      "metadata": {
        "id": "b0bca32f"
      },
      "outputs": [],
      "source": []
    }
  ],
  "metadata": {
    "kernelspec": {
      "display_name": "Python 3 (ipykernel)",
      "language": "python",
      "name": "python3"
    },
    "language_info": {
      "codemirror_mode": {
        "name": "ipython",
        "version": 3
      },
      "file_extension": ".py",
      "mimetype": "text/x-python",
      "name": "python",
      "nbconvert_exporter": "python",
      "pygments_lexer": "ipython3",
      "version": "3.11.5"
    },
    "colab": {
      "provenance": [],
      "toc_visible": true,
      "include_colab_link": true
    }
  },
  "nbformat": 4,
  "nbformat_minor": 5
}